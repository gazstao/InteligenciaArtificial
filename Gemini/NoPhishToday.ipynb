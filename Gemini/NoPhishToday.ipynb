{
  "nbformat": 4,
  "nbformat_minor": 0,
  "metadata": {
    "colab": {
      "provenance": [],
      "authorship_tag": "ABX9TyP8wnzchdTbxKqYZrNfp9wf",
      "include_colab_link": true
    },
    "kernelspec": {
      "name": "python3",
      "display_name": "Python 3"
    },
    "language_info": {
      "name": "python"
    }
  },
  "cells": [
    {
      "cell_type": "markdown",
      "metadata": {
        "id": "view-in-github",
        "colab_type": "text"
      },
      "source": [
        "<a href=\"https://colab.research.google.com/github/gazstao/InteligenciaArtificial/blob/main/NoPhishToday.ipynb\" target=\"_parent\"><img src=\"https://colab.research.google.com/assets/colab-badge.svg\" alt=\"Open In Colab\"/></a>"
      ]
    },
    {
      "cell_type": "code",
      "execution_count": 1,
      "metadata": {
        "id": "FJ8irXn5mhg5"
      },
      "outputs": [],
      "source": [
        "# Detecta Textos de Phishing\n",
        "# O usuário cola o texto do email, sms ou página que quer testar se é phishing\n",
        "# O modelo estima a probabilidade de ser um texto malicioso ou fraudulento\n",
        "\n",
        "pip install -q -U google-generativeai"
      ]
    },
    {
      "cell_type": "code",
      "source": [
        "# Importa o SDK\n",
        "import google.generativeai as genai\n",
        "\n",
        "# Armazene sua chave como GOOGLE_API_KEY nas variáveis de sistema\n",
        "from google.colab import userdata\n",
        "\n",
        "GOOGLE_API_KEY=userdata.get('GOOGLE_API_KEY')\n",
        "genai.configure(api_key=GOOGLE_API_KEY)\n",
        "\n",
        "# Ver os modelos disponiveis atualmente\n",
        "for m in genai.list_models():\n",
        "  if 'generateContent' in m.supported_generation_methods:\n",
        "    print(m.name)"
      ],
      "metadata": {
        "id": "tJRgBYZmqknT",
        "colab": {
          "base_uri": "https://localhost:8080/",
          "height": 139
        },
        "outputId": "bcf532e9-5c58-4789-c95a-c1ad66455ea2"
      },
      "execution_count": 2,
      "outputs": [
        {
          "output_type": "stream",
          "name": "stdout",
          "text": [
            "models/gemini-1.0-pro\n",
            "models/gemini-1.0-pro-001\n",
            "models/gemini-1.0-pro-latest\n",
            "models/gemini-1.0-pro-vision-latest\n",
            "models/gemini-1.5-pro-latest\n",
            "models/gemini-pro\n",
            "models/gemini-pro-vision\n"
          ]
        }
      ]
    },
    {
      "cell_type": "code",
      "source": [
        "# Obtem o texto de Phishing e testa\n",
        "texto = input(\"Cole aqui o texto que você quer detectar se é malicioso ou phishing:\\n\")\n",
        "prompt = f\"Me responda qual a probabilidade entre 0 e 100 do texto a seguir ser malicioso ou phishing e explique porque: {texto}\"\n",
        "\n",
        "model = genai.GenerativeModel(\"gemini-1.5-pro-latest\")\n",
        "response = model.generate_content(prompt)\n",
        "print(response.text)"
      ],
      "metadata": {
        "colab": {
          "base_uri": "https://localhost:8080/",
          "height": 367
        },
        "id": "5h2UwuMgmr0r",
        "outputId": "13cfef5d-5584-40cb-f05d-ca839ae35fcc"
      },
      "execution_count": 3,
      "outputs": [
        {
          "output_type": "stream",
          "name": "stdout",
          "text": [
            "Cole aqui o texto que você quer detectar se é malicioso ou phishing:\n",
            " Know Your Customer (KYC) regulation 🤝  Metamask requires all users to verify their wallets in order to comply with KYC regulations this must be done before 03/13/2024 as a regulated financial services company, we are required to verify all wallets on our platform. We require all customers to verify their wallets to continue using our service.  What if I don't complete the wallet verification?.  If you don't verify your wallet, your wallet will be restricted.  Verify Your Wallet ​  Thanks again for your valuable feedback.  Team MetaMask 😻\n",
            "## Probabilidade de phishing: 95%\n",
            "\n",
            "**Razões para suspeitar de phishing:**\n",
            "\n",
            "* **Urgência e ameaça:** O texto impõe um prazo curto (13/03/2024) e ameaça com restrição da carteira caso o usuário não realize a verificação. Essa tática de urgência e medo é comum em golpes de phishing para pressionar o usuário a agir impulsivamente.\n",
            "* **Solicitação de verificação incomum:** A Metamask, até meu último conhecimento em novembro de 2023, não exige KYC para uso da carteira. Solicitar verificação de carteira é um método comum para phishers obterem informações pessoais e senhas. \n",
            "* **Link suspeito:** O texto provavelmente contém um link para \"Verificar sua carteira\". Este link pode levar a um site falso que imita a Metamask, com o objetivo de roubar informações.\n",
            "* **Tom informal:** O uso de emojis e a linguagem informal (\"😻\") não são típicos de comunicações oficiais da Metamask, gerando desconfiança. \n",
            "\n",
            "**Recomendações:**\n",
            "\n",
            "* **Não clique em nenhum link:** Se receber este tipo de mensagem, não clique em nenhum link ou forneça informações pessoais.\n",
            "* **Verifique as informações diretamente com a Metamask:** Acesse o site oficial da Metamask ou entre em contato com o suporte oficial para confirmar se há alguma exigência de verificação.\n",
            "* **Fique atento a sinais de phishing:** Familiarize-se com as táticas comuns de phishing para se proteger.\n",
            "\n",
            "**Lembre-se:** Empresas legítimas raramente solicitam informações pessoais ou senhas por e-mail ou mensagens. Se você receber uma mensagem suspeita, é sempre melhor prevenir do que remediar. \n",
            "\n"
          ]
        }
      ]
    }
  ]
}